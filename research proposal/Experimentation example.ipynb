{
 "cells": [
  {
   "cell_type": "code",
   "execution_count": 1,
   "metadata": {
    "collapsed": true
   },
   "outputs": [],
   "source": [
    "%matplotlib inline\n",
    "import pandas as pd\n",
    "import numpy as np\n",
    "import seaborn as sns\n",
    "from matplotlib import pyplot as plt\n",
    "from scipy import stats"
   ]
  },
  {
   "cell_type": "code",
   "execution_count": 4,
   "metadata": {},
   "outputs": [
    {
     "data": {
      "text/html": [
       "<div>\n",
       "<style scoped>\n",
       "    .dataframe tbody tr th:only-of-type {\n",
       "        vertical-align: middle;\n",
       "    }\n",
       "\n",
       "    .dataframe tbody tr th {\n",
       "        vertical-align: top;\n",
       "    }\n",
       "\n",
       "    .dataframe thead th {\n",
       "        text-align: right;\n",
       "    }\n",
       "</style>\n",
       "<table border=\"1\" class=\"dataframe\">\n",
       "  <thead>\n",
       "    <tr style=\"text-align: right;\">\n",
       "      <th></th>\n",
       "      <th>treatment_date</th>\n",
       "      <th>test</th>\n",
       "      <th>is_signed_up</th>\n",
       "      <th>signup_date</th>\n",
       "    </tr>\n",
       "  </thead>\n",
       "  <tbody>\n",
       "    <tr>\n",
       "      <th>0</th>\n",
       "      <td>2016-04-01</td>\n",
       "      <td>0</td>\n",
       "      <td>0</td>\n",
       "      <td>NaN</td>\n",
       "    </tr>\n",
       "    <tr>\n",
       "      <th>1</th>\n",
       "      <td>2016-04-01</td>\n",
       "      <td>0</td>\n",
       "      <td>0</td>\n",
       "      <td>NaN</td>\n",
       "    </tr>\n",
       "    <tr>\n",
       "      <th>2</th>\n",
       "      <td>2016-04-01</td>\n",
       "      <td>0</td>\n",
       "      <td>0</td>\n",
       "      <td>NaN</td>\n",
       "    </tr>\n",
       "    <tr>\n",
       "      <th>3</th>\n",
       "      <td>2016-04-01</td>\n",
       "      <td>0</td>\n",
       "      <td>0</td>\n",
       "      <td>NaN</td>\n",
       "    </tr>\n",
       "    <tr>\n",
       "      <th>4</th>\n",
       "      <td>2016-04-01</td>\n",
       "      <td>0</td>\n",
       "      <td>0</td>\n",
       "      <td>NaN</td>\n",
       "    </tr>\n",
       "    <tr>\n",
       "      <th>5</th>\n",
       "      <td>2016-04-01</td>\n",
       "      <td>0</td>\n",
       "      <td>0</td>\n",
       "      <td>NaN</td>\n",
       "    </tr>\n",
       "    <tr>\n",
       "      <th>6</th>\n",
       "      <td>2016-04-01</td>\n",
       "      <td>1</td>\n",
       "      <td>1</td>\n",
       "      <td>2016-04-02</td>\n",
       "    </tr>\n",
       "    <tr>\n",
       "      <th>7</th>\n",
       "      <td>2016-04-01</td>\n",
       "      <td>0</td>\n",
       "      <td>0</td>\n",
       "      <td>NaN</td>\n",
       "    </tr>\n",
       "    <tr>\n",
       "      <th>8</th>\n",
       "      <td>2016-04-01</td>\n",
       "      <td>0</td>\n",
       "      <td>0</td>\n",
       "      <td>NaN</td>\n",
       "    </tr>\n",
       "    <tr>\n",
       "      <th>9</th>\n",
       "      <td>2016-04-01</td>\n",
       "      <td>0</td>\n",
       "      <td>0</td>\n",
       "      <td>NaN</td>\n",
       "    </tr>\n",
       "  </tbody>\n",
       "</table>\n",
       "</div>"
      ],
      "text/plain": [
       "  treatment_date  test  is_signed_up signup_date\n",
       "0     2016-04-01     0             0         NaN\n",
       "1     2016-04-01     0             0         NaN\n",
       "2     2016-04-01     0             0         NaN\n",
       "3     2016-04-01     0             0         NaN\n",
       "4     2016-04-01     0             0         NaN\n",
       "5     2016-04-01     0             0         NaN\n",
       "6     2016-04-01     1             1  2016-04-02\n",
       "7     2016-04-01     0             0         NaN\n",
       "8     2016-04-01     0             0         NaN\n",
       "9     2016-04-01     0             0         NaN"
      ]
     },
     "execution_count": 4,
     "metadata": {},
     "output_type": "execute_result"
    }
   ],
   "source": [
    "PATH = 'https://raw.githubusercontent.com/Thinkful-Ed/data-201-resources/master/1.4.11_experimentation_guided_example/experiment_data_2_wks.csv'\n",
    "experiment_data = pd.read_csv(PATH)\n",
    "experiment_data.head(10)"
   ]
  },
  {
   "cell_type": "code",
   "execution_count": 39,
   "metadata": {},
   "outputs": [
    {
     "name": "stdout",
     "output_type": "stream",
     "text": [
      "0    30241\n",
      "1     3372\n",
      "Name: test, dtype: int64 \n",
      "\n",
      "Test signup rates:  0.13701067615658363 \n",
      "\n",
      "Control signup rates:  0.14708508316523924 \n",
      "\n"
     ]
    },
    {
     "data": {
      "text/plain": [
       "Ttest_indResult(statistic=-1.5711354292574262, pvalue=0.11616060761145311)"
      ]
     },
     "execution_count": 39,
     "metadata": {},
     "output_type": "execute_result"
    }
   ],
   "source": [
    "# How large is each group?\n",
    "print(experiment_data.test.value_counts(), \"\\n\")\n",
    "\n",
    "\n",
    "# What is the signup rate of test and control?\n",
    "test = experiment_data[(experiment_data['test']==1) & (experiment_data['is_signed_up']==1)].test.count()\n",
    "test_total = experiment_data[experiment_data['test']==1].test.count()\n",
    "control = experiment_data[(experiment_data['test']==0) & (experiment_data['is_signed_up']==1)].test.count()\n",
    "control_total = experiment_data[experiment_data['test']==0].test.count()\n",
    "print(\"Test signup rates: \", test/test_total, \"\\n\")\n",
    "print(\"Control signup rates: \", control/control_total, \"\\n\")\n",
    "\n",
    "# Is the experiment already significant?\n",
    "\n",
    "stats.ttest_ind(experiment_data[experiment_data.test == 1].is_signed_up, experiment_data[experiment_data.test == 0].is_signed_up)"
   ]
  },
  {
   "cell_type": "code",
   "execution_count": 46,
   "metadata": {},
   "outputs": [
    {
     "data": {
      "image/png": "[encoded data removed]",
      "text/plain": [
       "<matplotlib.figure.Figure at 0x15ce59565c0>"
      ]
     },
     "metadata": {},
     "output_type": "display_data"
    },
    {
     "name": "stdout",
     "output_type": "stream",
     "text": [
      "T-Test Results by Date\n",
      "Ttest_indResult(statistic=1.171015382328547, pvalue=0.24172432121696255)\n",
      "Ttest_indResult(statistic=0.39163213374090855, pvalue=0.6953630758340448)\n",
      "Ttest_indResult(statistic=0.24114731791032132, pvalue=0.8094651742723448)\n",
      "Ttest_indResult(statistic=1.006146671265253, pvalue=0.3144281887767212)\n",
      "Ttest_indResult(statistic=1.7950152227404037, pvalue=0.0727950243234006)\n",
      "Ttest_indResult(statistic=-0.07142256949339083, pvalue=0.943068118381282)\n",
      "Ttest_indResult(statistic=-0.99645401324533, pvalue=0.31911047625459077)\n",
      "Ttest_indResult(statistic=-1.4059315672051254, pvalue=0.1598930922410899)\n",
      "Ttest_indResult(statistic=-2.772772511643487, pvalue=0.0055926512303104605)\n",
      "Ttest_indResult(statistic=-1.301097855458891, pvalue=0.19332775805677105)\n",
      "Ttest_indResult(statistic=-1.6243695706046337, pvalue=0.10443285596458776)\n",
      "Ttest_indResult(statistic=-2.559540254853317, pvalue=0.010550250694229046)\n",
      "Ttest_indResult(statistic=-0.851793126290792, pvalue=0.3944212121535955)\n",
      "Ttest_indResult(statistic=0.014473352887334019, pvalue=0.9884536957336474)\n"
     ]
    }
   ],
   "source": [
    "fig = experiment_data[experiment_data.test==1][['treatment_date', 'is_signed_up']].groupby('treatment_date').mean().plot()\n",
    "experiment_data[experiment_data.test==0][['treatment_date', 'is_signed_up']].groupby('treatment_date').mean().plot(ax=fig)\n",
    "plt.legend(['test','control'])\n",
    "plt.title('Comparing Signup Rates by Treatment Date')\n",
    "plt.show()\n",
    "print('T-Test Results by Date')\n",
    "\n",
    "for date in experiment_data.treatment_date.unique():\n",
    "    dated_data = experiment_data[experiment_data.treatment_date == date]\n",
    "    print(stats.ttest_ind(dated_data[dated_data.test == 1].is_signed_up, dated_data[dated_data.test == 0].is_signed_up))"
   ]
  },
  {
   "cell_type": "code",
   "execution_count": 50,
   "metadata": {
    "collapsed": true
   },
   "outputs": [],
   "source": [
    "PATH = 'https://raw.githubusercontent.com/Thinkful-Ed/data-201-resources/master/1.4.11_experimentation_guided_example/experiment_data_final.csv'\n",
    "experiment_data2 = pd.read_csv(PATH)"
   ]
  },
  {
   "cell_type": "code",
   "execution_count": 51,
   "metadata": {},
   "outputs": [
    {
     "name": "stdout",
     "output_type": "stream",
     "text": [
      "test sample size: 19861\n",
      "control sample size: 46867\n",
      "test proportion: 0.2976411701234864\n",
      "\n",
      "test signup rate: 0.2421328231206888\n",
      "control signup rate: 0.19937269293959503\n"
     ]
    },
    {
     "data": {
      "text/plain": [
       "Ttest_indResult(statistic=12.368130184147793, pvalue=4.248167714911685e-35)"
      ]
     },
     "execution_count": 51,
     "metadata": {},
     "output_type": "execute_result"
    }
   ],
   "source": [
    "# How large is each group?\n",
    "print('test sample size:', len(experiment_data2[experiment_data2.test == 1]))\n",
    "print('control sample size:', len(experiment_data2[experiment_data2.test == 0]))\n",
    "print('test proportion:', experiment_data2.test.mean())\n",
    "print()\n",
    "\n",
    "# What is the signup rate of test and control?\n",
    "print('test signup rate:', experiment_data2[experiment_data2.test == 1].is_signed_up.mean())\n",
    "print('control signup rate:', experiment_data2[experiment_data2.test == 0].is_signed_up.mean())\n",
    "\n",
    "# Is the experiment already significant?\n",
    "stats.ttest_ind(\n",
    "    experiment_data2[experiment_data2.test == 1].is_signed_up,\n",
    "    experiment_data2[experiment_data2.test == 0].is_signed_up)"
   ]
  },
  {
   "cell_type": "code",
   "execution_count": 58,
   "metadata": {},
   "outputs": [
    {
     "data": {
      "image/png": "[encoded data removed]",
      "text/plain": [
       "<matplotlib.figure.Figure at 0x15ce79cfd30>"
      ]
     },
     "metadata": {},
     "output_type": "display_data"
    }
   ],
   "source": [
    "test = experiment_data2[experiment_data2.test==1]\n",
    "control = experiment_data2[experiment_data2.test==0]\n",
    "fig = test[['treatment_date', 'is_signed_up']].groupby('treatment_date').mean().plot()\n",
    "control[['treatment_date', 'is_signed_up']].groupby('treatment_date').mean().plot(ax=fig)\n",
    "plt.legend(['test', 'control'])\n",
    "plt.show()"
   ]
  },
  {
   "cell_type": "code",
   "execution_count": null,
   "metadata": {
    "collapsed": true
   },
   "outputs": [],
   "source": []
  }
 ],
 "metadata": {
  "kernelspec": {
   "display_name": "Python 3",
   "language": "python",
   "name": "python3"
  },
  "language_info": {
   "codemirror_mode": {
    "name": "ipython",
    "version": 3
   },
   "file_extension": ".py",
   "mimetype": "text/x-python",
   "name": "python",
   "nbconvert_exporter": "python",
   "pygments_lexer": "ipython3",
   "version": "3.6.3"
  }
 },
 "nbformat": 4,
 "nbformat_minor": 2
}
