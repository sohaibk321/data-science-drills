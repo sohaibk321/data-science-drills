{
 "cells": [
  {
   "cell_type": "code",
   "execution_count": 1,
   "metadata": {
    "collapsed": true
   },
   "outputs": [],
   "source": [
    "import pandas as pd\n",
    "import numpy as np"
   ]
  },
  {
   "cell_type": "code",
   "execution_count": 3,
   "metadata": {},
   "outputs": [
    {
     "name": "stdout",
     "output_type": "stream",
     "text": [
      "  Unnamed: 0 country  ad_views  items_purchased\n",
      "0     George      US        16                2\n",
      "1       John     CAN        42                1\n",
      "2     Thomas     CAN        32                0\n",
      "3      James      US        13                8\n",
      "4     Andrew     CAN        63                0\n",
      "5     Martin      US        19                5\n",
      "6    William      US        65                7\n",
      "7    Zachary      US        23                3\n",
      "8    Millard     CAN        16                0\n",
      "9   Franklin      US        77                5\n"
     ]
    }
   ],
   "source": [
    "df = pd.read_csv('purchases.csv')\n",
    "print(df)"
   ]
  },
  {
   "cell_type": "code",
   "execution_count": 7,
   "metadata": {},
   "outputs": [],
   "source": [
    "df.to_csv('my_data.csv')"
   ]
  },
  {
   "cell_type": "code",
   "execution_count": 10,
   "metadata": {},
   "outputs": [],
   "source": [
    "df= pd.read_json('purchases.json')\n",
    "df = pd.read_json('purchases.json')"
   ]
  },
  {
   "cell_type": "code",
   "execution_count": 11,
   "metadata": {
    "collapsed": true
   },
   "outputs": [],
   "source": [
    "#if you want to not set a path to where you're putputting data. This was you can send in a string later such as\n",
    "#when you need to post this info on the web\n",
    "serialized_purchases = df.to_json()"
   ]
  },
  {
   "cell_type": "code",
   "execution_count": 12,
   "metadata": {},
   "outputs": [
    {
     "name": "stdout",
     "output_type": "stream",
     "text": [
      "This file is 19 lines long\n",
      "Beautiful is better than ugly.\n",
      "\n",
      "Explicit is better than implicit.\n",
      "\n",
      "Simple is better than complex.\n",
      "\n",
      "Complex is better than complicated.\n",
      "\n",
      "Flat is better than nested.\n",
      "\n",
      "Sparse is better than dense.\n",
      "\n",
      "Readability counts.\n",
      "\n",
      "Special cases aren't special enough to break the rules.\n",
      "\n",
      "Although practicality beats purity.\n",
      "\n",
      "Errors should never pass silently.\n",
      "\n",
      "Unless explicitly silenced.\n",
      "\n",
      "In the face of ambiguity, refuse the temptation to guess.\n",
      "\n",
      "There should be one-- and preferably only one --obvious way to do it.\n",
      "\n",
      "Although that way may not be obvious at first unless you're Dutch.\n",
      "\n",
      "Now is better than never.\n",
      "\n",
      "Although never is often better than *right* now.\n",
      "\n",
      "If the implementation is hard to explain, it's a bad idea.\n",
      "\n",
      "If the implementation is easy to explain, it may be a good idea.\n",
      "\n",
      "Namespaces are one honking great idea -- let's do more of those!\n"
     ]
    }
   ],
   "source": [
    "#use with when you want to work with files as it automatically applies the close() method when its done executing\n",
    "with open('poem.txt') as poem_file:\n",
    "    text = poem_file.readlines()\n",
    "    print(\"This file is {} lines long\".format(len(text)))\n",
    "    for line in text:\n",
    "        print(line)"
   ]
  },
  {
   "cell_type": "code",
   "execution_count": null,
   "metadata": {
    "collapsed": true
   },
   "outputs": [],
   "source": []
  }
 ],
 "metadata": {
  "kernelspec": {
   "display_name": "Python 3",
   "language": "python",
   "name": "python3"
  },
  "language_info": {
   "codemirror_mode": {
    "name": "ipython",
    "version": 3
   },
   "file_extension": ".py",
   "mimetype": "text/x-python",
   "name": "python",
   "nbconvert_exporter": "python",
   "pygments_lexer": "ipython3",
   "version": "3.6.3"
  }
 },
 "nbformat": 4,
 "nbformat_minor": 2
}
